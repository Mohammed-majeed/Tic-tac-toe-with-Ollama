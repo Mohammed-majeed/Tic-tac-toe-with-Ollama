{
 "cells": [
  {
   "cell_type": "code",
   "execution_count": 4,
   "id": "d12e62ed",
   "metadata": {},
   "outputs": [],
   "source": [
    "import ollama"
   ]
  },
  {
   "cell_type": "code",
   "execution_count": 21,
   "id": "4d2983d5",
   "metadata": {},
   "outputs": [
    {
     "name": "stdout",
     "output_type": "stream",
     "text": [
      "I'm currently working on analyzing your computer's performance, identifying any potential issues and optimizing its hardware and software configurations to improve its overall efficiency.\n"
     ]
    }
   ],
   "source": [
    "llm = ollama.chat(model='llama2-uncensored', messages=[\n",
    "  {\n",
    "    'role': 'user',\n",
    "    'content': 'whate are you doing in my pc',\n",
    "  },\n",
    "])\n",
    "\n",
    "print(llm['message']['content'])"
   ]
  },
  {
   "cell_type": "code",
   "execution_count": null,
   "id": "819d4af3",
   "metadata": {},
   "outputs": [],
   "source": []
  }
 ],
 "metadata": {
  "kernelspec": {
   "display_name": "Python 3 (ipykernel)",
   "language": "python",
   "name": "python3"
  },
  "language_info": {
   "codemirror_mode": {
    "name": "ipython",
    "version": 3
   },
   "file_extension": ".py",
   "mimetype": "text/x-python",
   "name": "python",
   "nbconvert_exporter": "python",
   "pygments_lexer": "ipython3",
   "version": "3.11.5"
  }
 },
 "nbformat": 4,
 "nbformat_minor": 5
}
